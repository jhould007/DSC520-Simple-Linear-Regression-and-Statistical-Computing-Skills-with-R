{
 "cells": [
  {
   "cell_type": "markdown",
   "id": "db55c63d",
   "metadata": {},
   "source": [
    "# Simple Linear Regression and Statistical Computing Skills with R\n",
    "#### By Josh Houlding <br>\n",
    "It is important to demonstrate statistical knowledge and practice R or Python programming concepts using datasets from external sources. For this activity, perform the following:"
   ]
  },
  {
   "cell_type": "markdown",
   "id": "1920d620",
   "metadata": {},
   "source": [
    "## Task 1\n",
    "<b>Research the concept of linear regression.</b>\n",
    "\n",
    "Linear regression is a statistical method useful for modeling and analyzing the linear relationship between one or more predictor variables and a response variable."
   ]
  },
  {
   "cell_type": "markdown",
   "id": "c581a2ae",
   "metadata": {},
   "source": [
    "## Task 2\n",
    "<b>Explain the difference between simple and multivariate linear regression.</b>\n",
    "\n",
    "Simple linear regression only uses one predictor variable to predict the response variable, while multivariate linear regression involves two or more predictors."
   ]
  },
  {
   "cell_type": "markdown",
   "id": "904904ab",
   "metadata": {},
   "source": [
    "## Task 3\n",
    "<b>Formulate a question that can be answered with simple linear regression.</b>\n",
    "\n",
    "One potential question that simple linear regression could answer is, <i>Can we predict an individual's weight (kg) based on their height (cm)?</i>"
   ]
  },
  {
   "cell_type": "markdown",
   "id": "117eb049",
   "metadata": {},
   "source": [
    "## Task 4\n",
    "<b>Select a dataset from \"UCI Machine Learning Repository,\" located in the topic Resources. Note: Make sure to select a dataset where the Default Task is labeled 'Regression.' If you are not sure, consult with your instructor.</b>\n",
    "\n",
    "I selected [this dataset](https://archive.ics.uci.edu/dataset/9/auto+mpg) for predicting the fuel economy of a vehicle in miles per gallon (mpg) based on several factors. "
   ]
  },
  {
   "cell_type": "code",
   "execution_count": 1,
   "id": "dafa1f04",
   "metadata": {
    "scrolled": true
   },
   "outputs": [
    {
     "data": {
      "text/html": [
       "<table>\n",
       "<thead><tr><th scope=col>index</th><th scope=col>name</th><th scope=col>cylinders</th><th scope=col>displacement</th><th scope=col>horsepower</th><th scope=col>weight</th><th scope=col>acceleration</th><th scope=col>year</th><th scope=col>origin</th><th scope=col>mpg</th></tr></thead>\n",
       "<tbody>\n",
       "\t<tr><td>0                        </td><td>chevrolet chevelle malibu</td><td>8                        </td><td>307                      </td><td>17                       </td><td>3504                     </td><td>12.0                     </td><td>1970                     </td><td>1                        </td><td>18                       </td></tr>\n",
       "\t<tr><td>1                        </td><td>buick skylark 320        </td><td>8                        </td><td>350                      </td><td>35                       </td><td>3693                     </td><td>11.5                     </td><td>1970                     </td><td>1                        </td><td>15                       </td></tr>\n",
       "\t<tr><td>2                        </td><td>plymouth satellite       </td><td>8                        </td><td>318                      </td><td>29                       </td><td>3436                     </td><td>11.0                     </td><td>1970                     </td><td>1                        </td><td>18                       </td></tr>\n",
       "\t<tr><td>3                        </td><td>amc rebel sst            </td><td>8                        </td><td>304                      </td><td>29                       </td><td>3433                     </td><td>12.0                     </td><td>1970                     </td><td>1                        </td><td>16                       </td></tr>\n",
       "\t<tr><td>4                        </td><td>ford torino              </td><td>8                        </td><td>302                      </td><td>24                       </td><td>3449                     </td><td>10.5                     </td><td>1970                     </td><td>1                        </td><td>17                       </td></tr>\n",
       "\t<tr><td>5                        </td><td>ford galaxie 500         </td><td>8                        </td><td>429                      </td><td>42                       </td><td>4341                     </td><td>10.0                     </td><td>1970                     </td><td>1                        </td><td>15                       </td></tr>\n",
       "</tbody>\n",
       "</table>\n"
      ],
      "text/latex": [
       "\\begin{tabular}{r|llllllllll}\n",
       " index & name & cylinders & displacement & horsepower & weight & acceleration & year & origin & mpg\\\\\n",
       "\\hline\n",
       "\t 0                         & chevrolet chevelle malibu & 8                         & 307                       & 17                        & 3504                      & 12.0                      & 1970                      & 1                         & 18                       \\\\\n",
       "\t 1                         & buick skylark 320         & 8                         & 350                       & 35                        & 3693                      & 11.5                      & 1970                      & 1                         & 15                       \\\\\n",
       "\t 2                         & plymouth satellite        & 8                         & 318                       & 29                        & 3436                      & 11.0                      & 1970                      & 1                         & 18                       \\\\\n",
       "\t 3                         & amc rebel sst             & 8                         & 304                       & 29                        & 3433                      & 12.0                      & 1970                      & 1                         & 16                       \\\\\n",
       "\t 4                         & ford torino               & 8                         & 302                       & 24                        & 3449                      & 10.5                      & 1970                      & 1                         & 17                       \\\\\n",
       "\t 5                         & ford galaxie 500          & 8                         & 429                       & 42                        & 4341                      & 10.0                      & 1970                      & 1                         & 15                       \\\\\n",
       "\\end{tabular}\n"
      ],
      "text/markdown": [
       "\n",
       "| index | name | cylinders | displacement | horsepower | weight | acceleration | year | origin | mpg |\n",
       "|---|---|---|---|---|---|---|---|---|---|\n",
       "| 0                         | chevrolet chevelle malibu | 8                         | 307                       | 17                        | 3504                      | 12.0                      | 1970                      | 1                         | 18                        |\n",
       "| 1                         | buick skylark 320         | 8                         | 350                       | 35                        | 3693                      | 11.5                      | 1970                      | 1                         | 15                        |\n",
       "| 2                         | plymouth satellite        | 8                         | 318                       | 29                        | 3436                      | 11.0                      | 1970                      | 1                         | 18                        |\n",
       "| 3                         | amc rebel sst             | 8                         | 304                       | 29                        | 3433                      | 12.0                      | 1970                      | 1                         | 16                        |\n",
       "| 4                         | ford torino               | 8                         | 302                       | 24                        | 3449                      | 10.5                      | 1970                      | 1                         | 17                        |\n",
       "| 5                         | ford galaxie 500          | 8                         | 429                       | 42                        | 4341                      | 10.0                      | 1970                      | 1                         | 15                        |\n",
       "\n"
      ],
      "text/plain": [
       "  index name                      cylinders displacement horsepower weight\n",
       "1 0     chevrolet chevelle malibu 8         307          17         3504  \n",
       "2 1     buick skylark 320         8         350          35         3693  \n",
       "3 2     plymouth satellite        8         318          29         3436  \n",
       "4 3     amc rebel sst             8         304          29         3433  \n",
       "5 4     ford torino               8         302          24         3449  \n",
       "6 5     ford galaxie 500          8         429          42         4341  \n",
       "  acceleration year origin mpg\n",
       "1 12.0         1970 1      18 \n",
       "2 11.5         1970 1      15 \n",
       "3 11.0         1970 1      18 \n",
       "4 12.0         1970 1      16 \n",
       "5 10.5         1970 1      17 \n",
       "6 10.0         1970 1      15 "
      ]
     },
     "metadata": {},
     "output_type": "display_data"
    }
   ],
   "source": [
    "# Load and transform the data\n",
    "mpg_data = read.csv(\"auto-mpg.csv\")\n",
    "names(mpg_data)[names(mpg_data) == \"X\"] <- \"index\"\n",
    "mpg_data <- mpg_data[, c(\"index\", \"name\", \"cylinders\", \"displacement\", \"horsepower\", \"weight\", \"acceleration\", \"year\", \"origin\", \"mpg\")]\n",
    "mpg_data$year <- mpg_data$year + 1900\n",
    "mpg_data$index <- as.numeric(mpg_data$index)\n",
    "mpg_data$cylinders <- as.numeric(mpg_data$cylinders)\n",
    "mpg_data$displacement <- as.numeric(mpg_data$displacement)\n",
    "mpg_data$horsepower <- as.numeric(mpg_data$horsepower)\n",
    "mpg_data$weight <- as.numeric(mpg_data$weight)\n",
    "mpg_data$acceleration <- as.numeric(mpg_data$acceleration)\n",
    "mpg_data$year <- as.numeric(mpg_data$year)\n",
    "mpg_data$origin <- as.numeric(mpg_data$origin)\n",
    "mpg_data$mpg <- as.numeric(mpg_data$mpg)\n",
    "\n",
    "# View the data\n",
    "head(mpg_data)"
   ]
  },
  {
   "cell_type": "code",
   "execution_count": 2,
   "id": "0eb017fd",
   "metadata": {},
   "outputs": [
    {
     "name": "stderr",
     "output_type": "stream",
     "text": [
      "Warning message:\n",
      "\"package 'pastecs' is not available (for R version 3.6.1)\""
     ]
    },
    {
     "name": "stdout",
     "output_type": "stream",
     "text": [
      "\n",
      "  There is a binary version available but the source version is later:\n",
      "      binary source needs_compilation\n",
      "e1071  1.7-6 1.7-14              TRUE\n",
      "\n",
      "  Binaries will be installed\n",
      "package 'e1071' successfully unpacked and MD5 sums checked\n",
      "\n",
      "The downloaded binary packages are in\n",
      "\tC:\\Users\\jdh10\\AppData\\Local\\Temp\\RtmpyED0FS\\downloaded_packages\n"
     ]
    },
    {
     "name": "stderr",
     "output_type": "stream",
     "text": [
      "Warning message:\n",
      "\"package 'pastecs' was built under R version 3.6.3\"Warning message:\n",
      "\"package 'e1071' was built under R version 3.6.3\""
     ]
    }
   ],
   "source": [
    "# Install and load packages \n",
    "suppressMessages({\n",
    "    install.packages(\"pastecs\")\n",
    "    install.packages(\"e1071\")\n",
    "})\n",
    "library(pastecs)\n",
    "library(e1071)"
   ]
  },
  {
   "cell_type": "markdown",
   "id": "25187ccb",
   "metadata": {},
   "source": [
    "## Task 5\n",
    "<b>Identify the independent and dependent variables in the data.</b>\n",
    "\n",
    "Independent variables: `cylinders`, `displacement`, `horsepower`, `weight`, `acceleration`, `year`, `origin`.<br>\n",
    "Dependent variable: `mpg`. "
   ]
  },
  {
   "cell_type": "markdown",
   "id": "8fc90644",
   "metadata": {},
   "source": [
    "## Task 6\n",
    "<b>For each variable inspect the dataset, decide: a) whether outliers are present and if yes, make and justify a recommendation on how to handle them; and b) whether the data needs to be cleaned up in some way; explain your rationale.</b>"
   ]
  },
  {
   "cell_type": "markdown",
   "id": "77f7bd9a",
   "metadata": {},
   "source": [
    "We will start by looking at a high-level summary of the data to determine if any of the numeric variables look suspicious, as far as outliers are concerned. \n",
    "\n",
    "NOTE: Units for the appropriate variables are not provided on the dataset's UCI ML Repository page for some reason. We will assume the following units: \n",
    "* `displacement`: $in^{3}$\n",
    "* `weight`: $lbs$\n",
    "* `acceleration`: $s$ (seconds to go from 0-60 mph)"
   ]
  },
  {
   "cell_type": "code",
   "execution_count": 3,
   "id": "39be3243",
   "metadata": {},
   "outputs": [
    {
     "data": {
      "text/plain": [
       "     index                    name       cylinders      displacement  \n",
       " Min.   :  0.00   ford pinto    :  6   Min.   :3.000   Min.   : 68.0  \n",
       " 1st Qu.: 99.25   amc matador   :  5   1st Qu.:4.000   1st Qu.:104.2  \n",
       " Median :198.50   ford maverick :  5   Median :4.000   Median :148.5  \n",
       " Mean   :198.50   toyota corolla:  5   Mean   :5.455   Mean   :193.4  \n",
       " 3rd Qu.:297.75   amc gremlin   :  4   3rd Qu.:8.000   3rd Qu.:262.0  \n",
       " Max.   :397.00   amc hornet    :  4   Max.   :8.000   Max.   :455.0  \n",
       "                  (Other)       :369                                  \n",
       "   horsepower        weight      acceleration        year          origin     \n",
       " Min.   : 1.00   Min.   :1613   Min.   : 8.00   Min.   :1970   Min.   :1.000  \n",
       " 1st Qu.:26.00   1st Qu.:2224   1st Qu.:13.82   1st Qu.:1973   1st Qu.:1.000  \n",
       " Median :60.50   Median :2804   Median :15.50   Median :1976   Median :1.000  \n",
       " Mean   :51.39   Mean   :2970   Mean   :15.57   Mean   :1976   Mean   :1.573  \n",
       " 3rd Qu.:79.00   3rd Qu.:3608   3rd Qu.:17.18   3rd Qu.:1979   3rd Qu.:2.000  \n",
       " Max.   :94.00   Max.   :5140   Max.   :24.80   Max.   :1982   Max.   :3.000  \n",
       "                                                                              \n",
       "      mpg       \n",
       " Min.   : 9.00  \n",
       " 1st Qu.:17.50  \n",
       " Median :23.00  \n",
       " Mean   :23.51  \n",
       " 3rd Qu.:29.00  \n",
       " Max.   :46.60  \n",
       "                "
      ]
     },
     "metadata": {},
     "output_type": "display_data"
    }
   ],
   "source": [
    "# Get summary of data\n",
    "summary(mpg_data)"
   ]
  },
  {
   "cell_type": "markdown",
   "id": "23b1ea7f",
   "metadata": {},
   "source": [
    "None of the variables have values that seem implausible, with the possible exception of `displacement`. We will look at a histogram of this variable to see if the distribution is appropriate. "
   ]
  },
  {
   "cell_type": "code",
   "execution_count": 4,
   "id": "17953781",
   "metadata": {},
   "outputs": [
    {
     "data": {
      "image/png": "[encoded data removed]",
      "text/plain": [
       "Plot with title \"Histogram of Displacement\""
      ]
     },
     "metadata": {},
     "output_type": "display_data"
    }
   ],
   "source": [
    "# View histogram of 'displacement'\n",
    "options(repr.plot.width=5, repr.plot.height=4)\n",
    "hist(mpg_data$displacement, main=\"Histogram of Displacement\", xlab=\"Values\", ylab=\"Count\", col=\"skyblue\", border=\"black\")"
   ]
  },
  {
   "cell_type": "markdown",
   "id": "4d4018d1",
   "metadata": {},
   "source": [
    "This distribution seems reasonable, as most cars are toward the lower end of power and thus displace relatively small volumes of air in their engines. The number of extreme observations (>400) is small enough that outliers will not significantly affect the analysis. "
   ]
  },
  {
   "cell_type": "markdown",
   "id": "41cbdbb6",
   "metadata": {},
   "source": [
    "## Tasks 7, 8, 9, and 10\n",
    "7. <b>For each variable, explain, calculate, visualize, and interpret the measures of central tendency.</b>\n",
    "8. <b>For each variable, explain, calculate, visualize, and interpret the measures of dispersion.</b>\n",
    "9. <b>For each variable, explain, calculate, visualize, and interpret skewness and kurtosis.</b>\n",
    "10. <b>For each variable, create a histogram depicting the frequency distribution and interpret the plot.</b>\n",
    "\n",
    "We have already computed some measures of central tendency above, but let's do it for each numeric variable individually so we can explore them more thoroughly. We will also examine their measures of dispersion, skewness and kurtosis, and distributions all in one place for convenience. "
   ]
  },
  {
   "cell_type": "markdown",
   "id": "353fb8f8",
   "metadata": {},
   "source": [
    "### Variable `cylinders`"
   ]
  },
  {
   "cell_type": "code",
   "execution_count": 5,
   "id": "1f56d6f5",
   "metadata": {},
   "outputs": [
    {
     "data": {
      "text/plain": [
       "   Min. 1st Qu.  Median    Mean 3rd Qu.    Max. \n",
       "  3.000   4.000   4.000   5.455   8.000   8.000 "
      ]
     },
     "metadata": {},
     "output_type": "display_data"
    }
   ],
   "source": [
    "# Find measures of central tendency for `cylinders`\n",
    "summary(mpg_data$cylinders)"
   ]
  },
  {
   "cell_type": "markdown",
   "id": "b8d7dfbf",
   "metadata": {},
   "source": [
    "Some cars in the data have as few as 3 cylinders, while some have as many as 8. The median number of cylinders is 4, suggesting that the 'typical' car is a v4. "
   ]
  },
  {
   "cell_type": "code",
   "execution_count": 6,
   "id": "8aa37804",
   "metadata": {},
   "outputs": [
    {
     "name": "stdout",
     "output_type": "stream",
     "text": [
      "Variance:  2.893415 \n",
      "Standard deviation:  1.701004 \n"
     ]
    }
   ],
   "source": [
    "# Find measures of dispersion for `cylinders`\n",
    "cat(\"Variance: \", var(mpg_data$cylinders), \"\\n\")\n",
    "cat(\"Standard deviation: \", sd(mpg_data$cylinders), \"\\n\")"
   ]
  },
  {
   "cell_type": "markdown",
   "id": "7c9cb4ef",
   "metadata": {},
   "source": [
    "We see approximately the variance and standard deviation we would expect, not unexpectedly large. "
   ]
  },
  {
   "cell_type": "code",
   "execution_count": 7,
   "id": "2f44a88b",
   "metadata": {},
   "outputs": [
    {
     "name": "stdout",
     "output_type": "stream",
     "text": [
      "Skewness:  0.5229564 \n",
      "Kurtosis:  -1.382624 \n"
     ]
    }
   ],
   "source": [
    "# Find skewness and kurtosis for `cylinders`\n",
    "cat(\"Skewness: \", skewness(mpg_data$cylinders), \"\\n\")\n",
    "cat(\"Kurtosis: \", kurtosis(mpg_data$cylinders), \"\\n\")"
   ]
  },
  {
   "cell_type": "markdown",
   "id": "2ec92a84",
   "metadata": {},
   "source": [
    "The skewness of `cylinders` suggests a distribution that is skewed to the right, while the kurtosis shows us that the distribution has longer tails and a sharper peak than a normal distribution. Let's look at that distribution: "
   ]
  },
  {
   "cell_type": "code",
   "execution_count": 8,
   "id": "8a8e41ed",
   "metadata": {},
   "outputs": [
    {
     "data": {
      "image/png": "[encoded data removed]",
      "text/plain": [
       "Plot with title \"Histogram of Cylinders\""
      ]
     },
     "metadata": {},
     "output_type": "display_data"
    }
   ],
   "source": [
    "# Show histogram for `cylinders`\n",
    "options(repr.plot.width=5, repr.plot.height=4)\n",
    "hist(mpg_data$cylinders, main=\"Histogram of Cylinders\", xlab=\"Values\", ylab=\"Count\", col=\"red\", border=\"black\")"
   ]
  },
  {
   "cell_type": "markdown",
   "id": "25db66df",
   "metadata": {},
   "source": [
    "As expected, most cars have around 4 cylinders, with a significant amount also having 6 or 8. "
   ]
  },
  {
   "cell_type": "markdown",
   "id": "d21f69b6",
   "metadata": {},
   "source": [
    "### Variable `displacement`"
   ]
  },
  {
   "cell_type": "code",
   "execution_count": 9,
   "id": "ac582b9e",
   "metadata": {},
   "outputs": [
    {
     "data": {
      "text/plain": [
       "   Min. 1st Qu.  Median    Mean 3rd Qu.    Max. \n",
       "   68.0   104.2   148.5   193.4   262.0   455.0 "
      ]
     },
     "metadata": {},
     "output_type": "display_data"
    }
   ],
   "source": [
    "# Find measures of central tendency for `displacement`\n",
    "summary(mpg_data$displacement)"
   ]
  },
  {
   "cell_type": "markdown",
   "id": "e7494522",
   "metadata": {},
   "source": [
    "There is a massive delta between engine displacements in the data, with the most powerful engine having over 6x the displacement potential of the weakest. However, the median vehicle has a modest 148.5 $in^{3}$ of displacement power, suggesting that most vehicles skew toward the lower end. This is confirmed by median being significantly lower than the mean. "
   ]
  },
  {
   "cell_type": "code",
   "execution_count": 10,
   "id": "c7be8ffa",
   "metadata": {},
   "outputs": [
    {
     "name": "stdout",
     "output_type": "stream",
     "text": [
      "Variance:  10872.2 \n",
      "Standard deviation:  104.2698 \n"
     ]
    }
   ],
   "source": [
    "# Find measures of dispersion for `displacement`\n",
    "cat(\"Variance: \", var(mpg_data$displacement), \"\\n\")\n",
    "cat(\"Standard deviation: \", sd(mpg_data$displacement), \"\\n\")"
   ]
  },
  {
   "cell_type": "markdown",
   "id": "087ced7f",
   "metadata": {},
   "source": [
    "We see a very large variance and standard deviation, suggesting there is considerable diversity in `displacement` values. "
   ]
  },
  {
   "cell_type": "code",
   "execution_count": 11,
   "id": "bd7f335f",
   "metadata": {},
   "outputs": [
    {
     "name": "stdout",
     "output_type": "stream",
     "text": [
      "Skewness:  0.7142298 \n",
      "Kurtosis:  -0.7635686 \n"
     ]
    }
   ],
   "source": [
    "# Find skewness and kurtosis for `displacement`\n",
    "cat(\"Skewness: \", skewness(mpg_data$displacement), \"\\n\")\n",
    "cat(\"Kurtosis: \", kurtosis(mpg_data$displacement), \"\\n\")"
   ]
  },
  {
   "cell_type": "markdown",
   "id": "6683ec21",
   "metadata": {},
   "source": [
    "As with the previous variable, we see that the distribution is skewed to the right and has a sharper peak than a normal distribution. "
   ]
  },
  {
   "cell_type": "code",
   "execution_count": 12,
   "id": "4fdcaa64",
   "metadata": {},
   "outputs": [
    {
     "data": {
      "image/png": "[encoded data removed]",
      "text/plain": [
       "Plot with title \"Histogram of Displacement\""
      ]
     },
     "metadata": {},
     "output_type": "display_data"
    }
   ],
   "source": [
    "# Show histogram for `displacement`\n",
    "options(repr.plot.width=5, repr.plot.height=4)\n",
    "hist(mpg_data$displacement, main=\"Histogram of Displacement\", xlab=\"Cubic Inches\", ylab=\"Count\", col=\"green\", border=\"black\")"
   ]
  },
  {
   "cell_type": "markdown",
   "id": "db7618c5",
   "metadata": {},
   "source": [
    "As we saw earlier, most cars have relatively low displacement values, with a significant amount sitting in the 300-400 range as well. "
   ]
  },
  {
   "cell_type": "markdown",
   "id": "1fd68d64",
   "metadata": {},
   "source": [
    "### Variable `horsepower`"
   ]
  },
  {
   "cell_type": "code",
   "execution_count": 13,
   "id": "2f018ba8",
   "metadata": {
    "scrolled": false
   },
   "outputs": [
    {
     "data": {
      "text/plain": [
       "   Min. 1st Qu.  Median    Mean 3rd Qu.    Max. \n",
       "   1.00   26.00   60.50   51.39   79.00   94.00 "
      ]
     },
     "metadata": {},
     "output_type": "display_data"
    }
   ],
   "source": [
    "# Find measures of central tendency for `horsepower`\n",
    "summary(mpg_data$horsepower)"
   ]
  },
  {
   "cell_type": "markdown",
   "id": "60e03cca",
   "metadata": {},
   "source": [
    "The median car has about 60 horsepower, which is weak by today's standards. However, we see that the median is higher than the mean, suggesting there are lots of underpowered cars at the lower end of the spectrum dragging down the mean. "
   ]
  },
  {
   "cell_type": "code",
   "execution_count": 14,
   "id": "88fa3d6a",
   "metadata": {},
   "outputs": [
    {
     "name": "stdout",
     "output_type": "stream",
     "text": [
      "Variance:  895.9462 \n",
      "Standard deviation:  29.93236 \n"
     ]
    }
   ],
   "source": [
    "# Find measures of dispersion for `horsepower`\n",
    "cat(\"Variance: \", var(mpg_data$horsepower), \"\\n\")\n",
    "cat(\"Standard deviation: \", sd(mpg_data$horsepower), \"\\n\")"
   ]
  },
  {
   "cell_type": "markdown",
   "id": "d2af2b2d",
   "metadata": {},
   "source": [
    "We see a large standard deviation, implying a wide distribution of horsepowers. "
   ]
  },
  {
   "cell_type": "code",
   "execution_count": 15,
   "id": "da72decd",
   "metadata": {},
   "outputs": [
    {
     "name": "stdout",
     "output_type": "stream",
     "text": [
      "Skewness:  -0.28674 \n",
      "Kurtosis:  -1.341286 \n"
     ]
    }
   ],
   "source": [
    "# Find skewness and kurtosis for `horsepower`\n",
    "cat(\"Skewness: \", skewness(mpg_data$horsepower), \"\\n\")\n",
    "cat(\"Kurtosis: \", kurtosis(mpg_data$horsepower), \"\\n\")"
   ]
  },
  {
   "cell_type": "markdown",
   "id": "11daf2f8",
   "metadata": {},
   "source": [
    "The negative skewness value suggests a left-skewed distribution, and the positive kurtosis implies longer tails and a sharp peak. "
   ]
  },
  {
   "cell_type": "code",
   "execution_count": 16,
   "id": "0ba9076e",
   "metadata": {},
   "outputs": [
    {
     "data": {
      "image/png": "[encoded data removed]",
      "text/plain": [
       "Plot with title \"Histogram of Horsepower\""
      ]
     },
     "metadata": {},
     "output_type": "display_data"
    }
   ],
   "source": [
    "# Show histogram for `horsepower`\n",
    "options(repr.plot.width=5, repr.plot.height=4)\n",
    "hist(mpg_data$horsepower, main=\"Histogram of Horsepower\", xlab=\"Values\", ylab=\"Count\", col=\"purple\", border=\"black\")"
   ]
  },
  {
   "cell_type": "markdown",
   "id": "60855444",
   "metadata": {},
   "source": [
    "We see a distribution that looks almost like an upward-opening parabola, with high numbers of vehicles falling in the 20-40 and 60-90 range. "
   ]
  },
  {
   "cell_type": "markdown",
   "id": "308f4292",
   "metadata": {},
   "source": [
    "### Variable `weight`"
   ]
  },
  {
   "cell_type": "code",
   "execution_count": 17,
   "id": "5bbc646f",
   "metadata": {
    "scrolled": true
   },
   "outputs": [
    {
     "data": {
      "text/plain": [
       "   Min. 1st Qu.  Median    Mean 3rd Qu.    Max. \n",
       "   1613    2224    2804    2970    3608    5140 "
      ]
     },
     "metadata": {},
     "output_type": "display_data"
    }
   ],
   "source": [
    "# Find measures of central tendency for `weight`\n",
    "summary(mpg_data$weight)"
   ]
  },
  {
   "cell_type": "markdown",
   "id": "765e0b60",
   "metadata": {},
   "source": [
    "We see that the mean and median weights are pretty close, centered at around 2,900 lbs. The heaviest vehicle in the data is 5,140 lbs, putting it around the typical pickup truck in weight. "
   ]
  },
  {
   "cell_type": "code",
   "execution_count": 18,
   "id": "d804db4c",
   "metadata": {},
   "outputs": [
    {
     "name": "stdout",
     "output_type": "stream",
     "text": [
      "Variance:  717141 \n",
      "Standard deviation:  846.8418 \n"
     ]
    }
   ],
   "source": [
    "# Find measures of dispersion for `weight`\n",
    "cat(\"Variance: \", var(mpg_data$weight), \"\\n\")\n",
    "cat(\"Standard deviation: \", sd(mpg_data$weight), \"\\n\")"
   ]
  },
  {
   "cell_type": "markdown",
   "id": "cae81492",
   "metadata": {},
   "source": [
    "We see a moderate standard deviation in weight. "
   ]
  },
  {
   "cell_type": "code",
   "execution_count": 19,
   "id": "dbcaf09a",
   "metadata": {},
   "outputs": [
    {
     "name": "stdout",
     "output_type": "stream",
     "text": [
      "Skewness:  0.5270662 \n",
      "Kurtosis:  -0.8018206 \n"
     ]
    }
   ],
   "source": [
    "# Find skewness and kurtosis for `weight`\n",
    "cat(\"Skewness: \", skewness(mpg_data$weight), \"\\n\")\n",
    "cat(\"Kurtosis: \", kurtosis(mpg_data$weight), \"\\n\")"
   ]
  },
  {
   "cell_type": "markdown",
   "id": "42123b89",
   "metadata": {},
   "source": [
    "We have a right-skewed distribution with a high peak. "
   ]
  },
  {
   "cell_type": "code",
   "execution_count": 20,
   "id": "f3dcc944",
   "metadata": {},
   "outputs": [
    {
     "data": {
      "image/png": "[encoded data removed]",
      "text/plain": [
       "Plot with title \"Histogram of Weight\""
      ]
     },
     "metadata": {},
     "output_type": "display_data"
    }
   ],
   "source": [
    "# Show histogram for `weight`\n",
    "options(repr.plot.width=5, repr.plot.height=4)\n",
    "hist(mpg_data$weight, main=\"Histogram of Weight\", xlab=\"Pounds\", ylab=\"Count\", col=\"blue\", border=\"black\")"
   ]
  },
  {
   "cell_type": "markdown",
   "id": "1fa568ef",
   "metadata": {},
   "source": [
    "Most vehicles are betwen 2,000 and 3,000 lbs, with most outside that range being heavier. "
   ]
  },
  {
   "cell_type": "markdown",
   "id": "b72eab76",
   "metadata": {},
   "source": [
    "### Variable `acceleration`"
   ]
  },
  {
   "cell_type": "code",
   "execution_count": 21,
   "id": "70b5ceb6",
   "metadata": {},
   "outputs": [
    {
     "data": {
      "text/plain": [
       "   Min. 1st Qu.  Median    Mean 3rd Qu.    Max. \n",
       "   8.00   13.82   15.50   15.57   17.18   24.80 "
      ]
     },
     "metadata": {},
     "output_type": "display_data"
    }
   ],
   "source": [
    "# Find measures of central tendency for `acceleration`\n",
    "summary(mpg_data$acceleration)"
   ]
  },
  {
   "cell_type": "markdown",
   "id": "9517d30b",
   "metadata": {},
   "source": [
    "The mean and median acceleration times are almost equal, suggesting a normal distribution. "
   ]
  },
  {
   "cell_type": "code",
   "execution_count": 22,
   "id": "980aef15",
   "metadata": {},
   "outputs": [
    {
     "name": "stdout",
     "output_type": "stream",
     "text": [
      "Variance:  7.604848 \n",
      "Standard deviation:  2.757689 \n"
     ]
    }
   ],
   "source": [
    "# Find measures of dispersion for `acceleration`\n",
    "cat(\"Variance: \", var(mpg_data$acceleration), \"\\n\")\n",
    "cat(\"Standard deviation: \", sd(mpg_data$acceleration), \"\\n\")"
   ]
  },
  {
   "cell_type": "markdown",
   "id": "f2af9c29",
   "metadata": {},
   "source": [
    "The variance and standard deviation are about what we would expect. "
   ]
  },
  {
   "cell_type": "code",
   "execution_count": 23,
   "id": "81a0890e",
   "metadata": {},
   "outputs": [
    {
     "name": "stdout",
     "output_type": "stream",
     "text": [
      "Skewness:  0.276679 \n",
      "Kurtosis:  0.3821477 \n"
     ]
    }
   ],
   "source": [
    "# Find skewness and kurtosis for `acceleration`\n",
    "cat(\"Skewness: \", skewness(mpg_data$acceleration), \"\\n\")\n",
    "cat(\"Kurtosis: \", kurtosis(mpg_data$acceleration), \"\\n\")"
   ]
  },
  {
   "cell_type": "markdown",
   "id": "f721a9f5",
   "metadata": {},
   "source": [
    "We have a slightly right-skewed distribution with a sharp peak. "
   ]
  },
  {
   "cell_type": "code",
   "execution_count": 24,
   "id": "c9a93f99",
   "metadata": {},
   "outputs": [
    {
     "data": {
      "image/png": "[encoded data removed]",
      "text/plain": [
       "Plot with title \"Histogram of Acceleration\""
      ]
     },
     "metadata": {},
     "output_type": "display_data"
    }
   ],
   "source": [
    "# Show histogram for `acceleration`\n",
    "options(repr.plot.width=5, repr.plot.height=4)\n",
    "hist(mpg_data$acceleration, main=\"Histogram of Acceleration\", xlab=\"Seconds\", ylab=\"Count\", col=\"red\", border=\"black\")"
   ]
  },
  {
   "cell_type": "markdown",
   "id": "e1a2217b",
   "metadata": {},
   "source": [
    "We see a nearly perfect normal distribution centered at about 15 seconds, with a slightly longer right tail. "
   ]
  },
  {
   "cell_type": "markdown",
   "id": "6664b7ed",
   "metadata": {},
   "source": [
    "### Variable `year`"
   ]
  },
  {
   "cell_type": "code",
   "execution_count": 25,
   "id": "be7dfa4c",
   "metadata": {},
   "outputs": [
    {
     "data": {
      "text/plain": [
       "   Min. 1st Qu.  Median    Mean 3rd Qu.    Max. \n",
       "   1970    1973    1976    1976    1979    1982 "
      ]
     },
     "metadata": {},
     "output_type": "display_data"
    }
   ],
   "source": [
    "# Find measures of central tendency for `year`\n",
    "summary(mpg_data$year)"
   ]
  },
  {
   "cell_type": "markdown",
   "id": "6913fa40",
   "metadata": {},
   "source": [
    "The oldest vehicle in the data is from 1970, and the newest is from 1982. The typical vehicle is from 1976. "
   ]
  },
  {
   "cell_type": "code",
   "execution_count": 26,
   "id": "aee26342",
   "metadata": {},
   "outputs": [
    {
     "name": "stdout",
     "output_type": "stream",
     "text": [
      "Variance:  13.67244 \n",
      "Standard deviation:  3.697627 \n"
     ]
    }
   ],
   "source": [
    "# Find measures of dispersion for `year`\n",
    "cat(\"Variance: \", var(mpg_data$year), \"\\n\")\n",
    "cat(\"Standard deviation: \", sd(mpg_data$year), \"\\n\")"
   ]
  },
  {
   "cell_type": "markdown",
   "id": "4b625955",
   "metadata": {},
   "source": [
    "The variance and standard deviation are about what we would expect. "
   ]
  },
  {
   "cell_type": "code",
   "execution_count": 27,
   "id": "3ca95aab",
   "metadata": {},
   "outputs": [
    {
     "name": "stdout",
     "output_type": "stream",
     "text": [
      "Skewness:  0.0114478 \n",
      "Kurtosis:  -1.190609 \n"
     ]
    }
   ],
   "source": [
    "# Find skewness and kurtosis for `year`\n",
    "cat(\"Skewness: \", skewness(mpg_data$year), \"\\n\")\n",
    "cat(\"Kurtosis: \", kurtosis(mpg_data$year), \"\\n\")"
   ]
  },
  {
   "cell_type": "markdown",
   "id": "1ea6e071",
   "metadata": {},
   "source": [
    "We have a nearly symmetrical distribution with heavy tails. "
   ]
  },
  {
   "cell_type": "code",
   "execution_count": 28,
   "id": "88b7522e",
   "metadata": {},
   "outputs": [
    {
     "data": {
      "image/png": "[encoded data removed]",
      "text/plain": [
       "Plot with title \"Histogram of Year\""
      ]
     },
     "metadata": {},
     "output_type": "display_data"
    }
   ],
   "source": [
    "# Show histogram for `year`\n",
    "options(repr.plot.width=5, repr.plot.height=4)\n",
    "hist(mpg_data$year, main=\"Histogram of Year\", xlab=\"Year\", ylab=\"Count\", col=\"forestgreen\", border=\"black\")"
   ]
  },
  {
   "cell_type": "markdown",
   "id": "8869e4d6",
   "metadata": {},
   "source": [
    "Coinciding with our skewness and kurtosis values, we see a nearly uniform distribution, with a slight peak around 1970, which suggests that many of the cars in the dataset are at the older end of years present in the data. \n",
    "\n",
    "We will be skipping analysis of the variable `origin`, because the UCI ML Repository page does not explain what it represents. "
   ]
  },
  {
   "cell_type": "markdown",
   "id": "f2a36619",
   "metadata": {},
   "source": [
    "### Variable `mpg`"
   ]
  },
  {
   "cell_type": "code",
   "execution_count": 29,
   "id": "1cf65c75",
   "metadata": {},
   "outputs": [
    {
     "data": {
      "text/plain": [
       "   Min. 1st Qu.  Median    Mean 3rd Qu.    Max. \n",
       "   9.00   17.50   23.00   23.51   29.00   46.60 "
      ]
     },
     "metadata": {},
     "output_type": "display_data"
    }
   ],
   "source": [
    "# Find measures of central tendency for `mpg`\n",
    "summary(mpg_data$mpg)"
   ]
  },
  {
   "cell_type": "markdown",
   "id": "1a40eb95",
   "metadata": {},
   "source": [
    "The mean and median are close, suggesting no significant skew, and the maximum mileage is over 46 mpg, which is surprising for a vehicle manufactured between 1970 and 1982. "
   ]
  },
  {
   "cell_type": "code",
   "execution_count": 30,
   "id": "4bba1239",
   "metadata": {},
   "outputs": [
    {
     "name": "stdout",
     "output_type": "stream",
     "text": [
      "Variance:  61.08961 \n",
      "Standard deviation:  7.815984 \n"
     ]
    }
   ],
   "source": [
    "# Find measures of dispersion for `mpg`\n",
    "cat(\"Variance: \", var(mpg_data$mpg), \"\\n\")\n",
    "cat(\"Standard deviation: \", sd(mpg_data$mpg), \"\\n\")"
   ]
  },
  {
   "cell_type": "markdown",
   "id": "d57e235d",
   "metadata": {},
   "source": [
    "The variance and standard deviation are unsurprising. "
   ]
  },
  {
   "cell_type": "code",
   "execution_count": 31,
   "id": "3d7da90a",
   "metadata": {},
   "outputs": [
    {
     "name": "stdout",
     "output_type": "stream",
     "text": [
      "Skewness:  0.4536269 \n",
      "Kurtosis:  -0.5318741 \n"
     ]
    }
   ],
   "source": [
    "# Find skewness and kurtosis for `mpg`\n",
    "cat(\"Skewness: \", skewness(mpg_data$mpg), \"\\n\")\n",
    "cat(\"Kurtosis: \", kurtosis(mpg_data$mpg), \"\\n\")"
   ]
  },
  {
   "cell_type": "markdown",
   "id": "c471db0c",
   "metadata": {},
   "source": [
    "We see that the distribution is likely right-skewed with a sharp peak. "
   ]
  },
  {
   "cell_type": "code",
   "execution_count": 32,
   "id": "b1ea3f75",
   "metadata": {},
   "outputs": [
    {
     "data": {
      "image/png": "[encoded data removed]",
      "text/plain": [
       "Plot with title \"Histogram of MPG\""
      ]
     },
     "metadata": {},
     "output_type": "display_data"
    }
   ],
   "source": [
    "# Show histogram for `mpg`\n",
    "options(repr.plot.width=5, repr.plot.height=4)\n",
    "hist(mpg_data$mpg, main=\"Histogram of MPG\", xlab=\"MPG\", ylab=\"Count\", col=\"skyblue\", border=\"black\")"
   ]
  },
  {
   "cell_type": "markdown",
   "id": "0147c80a",
   "metadata": {},
   "source": [
    "We see a distribution that looks vaguely normal, with a significant right skew. "
   ]
  },
  {
   "cell_type": "markdown",
   "id": "9f6f4b53",
   "metadata": {},
   "source": [
    "## Tasks 11, 12, and 13\n",
    "11. <b>Perform simple linear regression in R or Python, using the appropriate variable(s) from the dataset you downloaded.</b>\n",
    "12. <b>Display the results and include plots you think are necessary to support your findings.</b>\n",
    "13. <b>Interpret the results.</b>\n",
    "\n",
    "We will be performing SLR in R to determine how much of an effect a vehicle's horsepower has on its fuel economy (mpg). \n",
    "* Predictor variable: `horsepower`\n",
    "* Response variable: `mpg`"
   ]
  },
  {
   "cell_type": "code",
   "execution_count": 33,
   "id": "de3eacf4",
   "metadata": {},
   "outputs": [
    {
     "data": {
      "text/html": [
       "<table>\n",
       "<thead><tr><th scope=col>horsepower</th><th scope=col>mpg</th></tr></thead>\n",
       "<tbody>\n",
       "\t<tr><td>17</td><td>18</td></tr>\n",
       "\t<tr><td>35</td><td>15</td></tr>\n",
       "\t<tr><td>29</td><td>18</td></tr>\n",
       "\t<tr><td>29</td><td>16</td></tr>\n",
       "\t<tr><td>24</td><td>17</td></tr>\n",
       "\t<tr><td>42</td><td>15</td></tr>\n",
       "</tbody>\n",
       "</table>\n"
      ],
      "text/latex": [
       "\\begin{tabular}{r|ll}\n",
       " horsepower & mpg\\\\\n",
       "\\hline\n",
       "\t 17 & 18\\\\\n",
       "\t 35 & 15\\\\\n",
       "\t 29 & 18\\\\\n",
       "\t 29 & 16\\\\\n",
       "\t 24 & 17\\\\\n",
       "\t 42 & 15\\\\\n",
       "\\end{tabular}\n"
      ],
      "text/markdown": [
       "\n",
       "| horsepower | mpg |\n",
       "|---|---|\n",
       "| 17 | 18 |\n",
       "| 35 | 15 |\n",
       "| 29 | 18 |\n",
       "| 29 | 16 |\n",
       "| 24 | 17 |\n",
       "| 42 | 15 |\n",
       "\n"
      ],
      "text/plain": [
       "  horsepower mpg\n",
       "1 17         18 \n",
       "2 35         15 \n",
       "3 29         18 \n",
       "4 29         16 \n",
       "5 24         17 \n",
       "6 42         15 "
      ]
     },
     "metadata": {},
     "output_type": "display_data"
    }
   ],
   "source": [
    "# Get subset of data \n",
    "horsepower_mpg <- mpg_data[, c(\"horsepower\", \"mpg\")]\n",
    "head(horsepower_mpg)"
   ]
  },
  {
   "cell_type": "code",
   "execution_count": 34,
   "id": "212b77d5",
   "metadata": {},
   "outputs": [
    {
     "data": {
      "text/plain": [
       "\n",
       "Call:\n",
       "lm(formula = mpg ~ horsepower, data = horsepower_mpg)\n",
       "\n",
       "Residuals:\n",
       "     Min       1Q   Median       3Q      Max \n",
       "-13.3709  -5.9894  -0.4078   4.9695  22.9325 \n",
       "\n",
       "Coefficients:\n",
       "            Estimate Std. Error t value Pr(>|t|)    \n",
       "(Intercept)  17.8574     0.7074  25.243   <2e-16 ***\n",
       "horsepower    0.1101     0.0119   9.252   <2e-16 ***\n",
       "---\n",
       "Signif. codes:  0 '***' 0.001 '**' 0.01 '*' 0.05 '.' 0.1 ' ' 1\n",
       "\n",
       "Residual standard error: 7.096 on 396 degrees of freedom\n",
       "Multiple R-squared:  0.1777,\tAdjusted R-squared:  0.1757 \n",
       "F-statistic:  85.6 on 1 and 396 DF,  p-value: < 2.2e-16\n"
      ]
     },
     "metadata": {},
     "output_type": "display_data"
    }
   ],
   "source": [
    "# Train model \n",
    "model <- lm(mpg ~ horsepower, data = horsepower_mpg)\n",
    "\n",
    "# Get summary of model\n",
    "summary(model)"
   ]
  },
  {
   "cell_type": "markdown",
   "id": "1cea85dd",
   "metadata": {},
   "source": [
    "We get a model equation of $m = 17.86 + 0.11h$, where $m$ is mileage and $h$ is horsepower. Contrary to my expectations, the model suggests that vehicles with higher-horsepower engines get better fuel economy, which seems counterintuitive. To be more specific, a 1-unit increase in a vehicle's horsepower will increase its fuel economy by ~0.11 mpg, on average. "
   ]
  },
  {
   "cell_type": "code",
   "execution_count": 35,
   "id": "f60481cb",
   "metadata": {},
   "outputs": [
    {
     "data": {
      "image/png": "[encoded data removed]",
      "text/plain": [
       "Plot with title \"Scatterplot of Horsepower vs. MPG\""
      ]
     },
     "metadata": {},
     "output_type": "display_data"
    }
   ],
   "source": [
    "# Create scatterplot with linear regression line\n",
    "plot(horsepower_mpg$horsepower, horsepower_mpg$mpg, \n",
    "     xlab = \"Horsepower\", ylab = \"MPG\",\n",
    "     main = \"Scatterplot of Horsepower vs. MPG\")"
   ]
  },
  {
   "cell_type": "markdown",
   "id": "e4848fe2",
   "metadata": {},
   "source": [
    "When we look at the scatterplot, we see a very different picture. We see data points split into two clusters, with each cluster displaying a negative trend, which fits with common sense that MPG decreases with increasing horsepower. This highlights the importance of looking at a plot to see what is really going on, since one regression line through all this data will obviously have a positive slope, even though that does not fit the data in reality. "
   ]
  }
 ],
 "metadata": {
  "kernelspec": {
   "display_name": "R",
   "language": "R",
   "name": "ir"
  },
  "language_info": {
   "codemirror_mode": "r",
   "file_extension": ".r",
   "mimetype": "text/x-r-source",
   "name": "R",
   "pygments_lexer": "r",
   "version": "3.6.1"
  }
 },
 "nbformat": 4,
 "nbformat_minor": 5
}
